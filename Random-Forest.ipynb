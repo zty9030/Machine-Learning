{
 "cells": [
  {
   "cell_type": "code",
   "execution_count": 1,
   "metadata": {
    "collapsed": true
   },
   "outputs": [],
   "source": [
    "import pandas as pd\n",
    "import numpy as np\n",
    "import os\n",
    "import matplotlib.pylab as plt\n",
    "from sklearn.cross_validation import train_test_split\n",
    "#from sklearn.tree import DecisionTreeClassifier\n",
    "from sklearn.metrics import classification_report\n",
    "import sklearn.metrics\n",
    "\n",
    "# Feature Importance\n",
    "from sklearn import datasets\n",
    "from sklearn.ensemble import ExtraTreesClassifier"
   ]
  },
  {
   "cell_type": "code",
   "execution_count": 5,
   "metadata": {
    "collapsed": false
   },
   "outputs": [
    {
     "data": {
      "text/html": [
       "<div>\n",
       "<table border=\"1\" class=\"dataframe\">\n",
       "  <thead>\n",
       "    <tr style=\"text-align: right;\">\n",
       "      <th></th>\n",
       "      <th>BIO_SEX</th>\n",
       "      <th>HISPANIC</th>\n",
       "      <th>WHITE</th>\n",
       "      <th>BLACK</th>\n",
       "      <th>NAMERICAN</th>\n",
       "      <th>ASIAN</th>\n",
       "      <th>age</th>\n",
       "      <th>TREG1</th>\n",
       "      <th>ALCEVR1</th>\n",
       "      <th>ALCPROBS1</th>\n",
       "      <th>...</th>\n",
       "      <th>ESTEEM1</th>\n",
       "      <th>VIOL1</th>\n",
       "      <th>PASSIST</th>\n",
       "      <th>DEVIANT1</th>\n",
       "      <th>SCHCONN1</th>\n",
       "      <th>GPA1</th>\n",
       "      <th>EXPEL1</th>\n",
       "      <th>FAMCONCT</th>\n",
       "      <th>PARACTV</th>\n",
       "      <th>PARPRES</th>\n",
       "    </tr>\n",
       "  </thead>\n",
       "  <tbody>\n",
       "    <tr>\n",
       "      <th>count</th>\n",
       "      <td>4575.000000</td>\n",
       "      <td>4575.000000</td>\n",
       "      <td>4575.000000</td>\n",
       "      <td>4575.000000</td>\n",
       "      <td>4575.000000</td>\n",
       "      <td>4575.000000</td>\n",
       "      <td>4575.000000</td>\n",
       "      <td>4575.000000</td>\n",
       "      <td>4575.000000</td>\n",
       "      <td>4575.000000</td>\n",
       "      <td>...</td>\n",
       "      <td>4575.000000</td>\n",
       "      <td>4575.000000</td>\n",
       "      <td>4575.000000</td>\n",
       "      <td>4575.000000</td>\n",
       "      <td>4575.000000</td>\n",
       "      <td>4575.000000</td>\n",
       "      <td>4575.000000</td>\n",
       "      <td>4575.000000</td>\n",
       "      <td>4575.000000</td>\n",
       "      <td>4575.000000</td>\n",
       "    </tr>\n",
       "    <tr>\n",
       "      <th>mean</th>\n",
       "      <td>1.521093</td>\n",
       "      <td>0.111038</td>\n",
       "      <td>0.683279</td>\n",
       "      <td>0.236066</td>\n",
       "      <td>0.036284</td>\n",
       "      <td>0.040437</td>\n",
       "      <td>16.493052</td>\n",
       "      <td>0.176393</td>\n",
       "      <td>0.527432</td>\n",
       "      <td>0.369180</td>\n",
       "      <td>...</td>\n",
       "      <td>40.952131</td>\n",
       "      <td>1.618579</td>\n",
       "      <td>0.102514</td>\n",
       "      <td>2.645027</td>\n",
       "      <td>28.360656</td>\n",
       "      <td>2.815647</td>\n",
       "      <td>0.040219</td>\n",
       "      <td>22.570557</td>\n",
       "      <td>6.290710</td>\n",
       "      <td>13.398033</td>\n",
       "    </tr>\n",
       "    <tr>\n",
       "      <th>std</th>\n",
       "      <td>0.499609</td>\n",
       "      <td>0.314214</td>\n",
       "      <td>0.465249</td>\n",
       "      <td>0.424709</td>\n",
       "      <td>0.187017</td>\n",
       "      <td>0.197004</td>\n",
       "      <td>1.552174</td>\n",
       "      <td>0.381196</td>\n",
       "      <td>0.499302</td>\n",
       "      <td>0.894947</td>\n",
       "      <td>...</td>\n",
       "      <td>5.381439</td>\n",
       "      <td>2.593230</td>\n",
       "      <td>0.303356</td>\n",
       "      <td>3.520554</td>\n",
       "      <td>5.156385</td>\n",
       "      <td>0.770167</td>\n",
       "      <td>0.196493</td>\n",
       "      <td>2.614754</td>\n",
       "      <td>3.360219</td>\n",
       "      <td>2.085837</td>\n",
       "    </tr>\n",
       "    <tr>\n",
       "      <th>min</th>\n",
       "      <td>1.000000</td>\n",
       "      <td>0.000000</td>\n",
       "      <td>0.000000</td>\n",
       "      <td>0.000000</td>\n",
       "      <td>0.000000</td>\n",
       "      <td>0.000000</td>\n",
       "      <td>12.676712</td>\n",
       "      <td>0.000000</td>\n",
       "      <td>0.000000</td>\n",
       "      <td>0.000000</td>\n",
       "      <td>...</td>\n",
       "      <td>18.000000</td>\n",
       "      <td>0.000000</td>\n",
       "      <td>0.000000</td>\n",
       "      <td>0.000000</td>\n",
       "      <td>6.000000</td>\n",
       "      <td>1.000000</td>\n",
       "      <td>0.000000</td>\n",
       "      <td>6.300000</td>\n",
       "      <td>0.000000</td>\n",
       "      <td>3.000000</td>\n",
       "    </tr>\n",
       "    <tr>\n",
       "      <th>25%</th>\n",
       "      <td>1.000000</td>\n",
       "      <td>0.000000</td>\n",
       "      <td>0.000000</td>\n",
       "      <td>0.000000</td>\n",
       "      <td>0.000000</td>\n",
       "      <td>0.000000</td>\n",
       "      <td>15.254795</td>\n",
       "      <td>0.000000</td>\n",
       "      <td>0.000000</td>\n",
       "      <td>0.000000</td>\n",
       "      <td>...</td>\n",
       "      <td>38.000000</td>\n",
       "      <td>0.000000</td>\n",
       "      <td>0.000000</td>\n",
       "      <td>0.000000</td>\n",
       "      <td>25.000000</td>\n",
       "      <td>2.250000</td>\n",
       "      <td>0.000000</td>\n",
       "      <td>21.700000</td>\n",
       "      <td>4.000000</td>\n",
       "      <td>12.000000</td>\n",
       "    </tr>\n",
       "    <tr>\n",
       "      <th>50%</th>\n",
       "      <td>2.000000</td>\n",
       "      <td>0.000000</td>\n",
       "      <td>1.000000</td>\n",
       "      <td>0.000000</td>\n",
       "      <td>0.000000</td>\n",
       "      <td>0.000000</td>\n",
       "      <td>16.509589</td>\n",
       "      <td>0.000000</td>\n",
       "      <td>1.000000</td>\n",
       "      <td>0.000000</td>\n",
       "      <td>...</td>\n",
       "      <td>40.000000</td>\n",
       "      <td>0.000000</td>\n",
       "      <td>0.000000</td>\n",
       "      <td>1.000000</td>\n",
       "      <td>29.000000</td>\n",
       "      <td>2.750000</td>\n",
       "      <td>0.000000</td>\n",
       "      <td>23.700000</td>\n",
       "      <td>6.000000</td>\n",
       "      <td>14.000000</td>\n",
       "    </tr>\n",
       "    <tr>\n",
       "      <th>75%</th>\n",
       "      <td>2.000000</td>\n",
       "      <td>0.000000</td>\n",
       "      <td>1.000000</td>\n",
       "      <td>0.000000</td>\n",
       "      <td>0.000000</td>\n",
       "      <td>0.000000</td>\n",
       "      <td>17.679452</td>\n",
       "      <td>0.000000</td>\n",
       "      <td>1.000000</td>\n",
       "      <td>0.000000</td>\n",
       "      <td>...</td>\n",
       "      <td>45.000000</td>\n",
       "      <td>2.000000</td>\n",
       "      <td>0.000000</td>\n",
       "      <td>4.000000</td>\n",
       "      <td>32.000000</td>\n",
       "      <td>3.500000</td>\n",
       "      <td>0.000000</td>\n",
       "      <td>24.300000</td>\n",
       "      <td>9.000000</td>\n",
       "      <td>15.000000</td>\n",
       "    </tr>\n",
       "    <tr>\n",
       "      <th>max</th>\n",
       "      <td>2.000000</td>\n",
       "      <td>1.000000</td>\n",
       "      <td>1.000000</td>\n",
       "      <td>1.000000</td>\n",
       "      <td>1.000000</td>\n",
       "      <td>1.000000</td>\n",
       "      <td>21.512329</td>\n",
       "      <td>1.000000</td>\n",
       "      <td>1.000000</td>\n",
       "      <td>6.000000</td>\n",
       "      <td>...</td>\n",
       "      <td>50.000000</td>\n",
       "      <td>19.000000</td>\n",
       "      <td>1.000000</td>\n",
       "      <td>27.000000</td>\n",
       "      <td>38.000000</td>\n",
       "      <td>4.000000</td>\n",
       "      <td>1.000000</td>\n",
       "      <td>25.000000</td>\n",
       "      <td>18.000000</td>\n",
       "      <td>15.000000</td>\n",
       "    </tr>\n",
       "  </tbody>\n",
       "</table>\n",
       "<p>8 rows × 25 columns</p>\n",
       "</div>"
      ],
      "text/plain": [
       "           BIO_SEX     HISPANIC        WHITE        BLACK    NAMERICAN  \\\n",
       "count  4575.000000  4575.000000  4575.000000  4575.000000  4575.000000   \n",
       "mean      1.521093     0.111038     0.683279     0.236066     0.036284   \n",
       "std       0.499609     0.314214     0.465249     0.424709     0.187017   \n",
       "min       1.000000     0.000000     0.000000     0.000000     0.000000   \n",
       "25%       1.000000     0.000000     0.000000     0.000000     0.000000   \n",
       "50%       2.000000     0.000000     1.000000     0.000000     0.000000   \n",
       "75%       2.000000     0.000000     1.000000     0.000000     0.000000   \n",
       "max       2.000000     1.000000     1.000000     1.000000     1.000000   \n",
       "\n",
       "             ASIAN          age        TREG1      ALCEVR1    ALCPROBS1  \\\n",
       "count  4575.000000  4575.000000  4575.000000  4575.000000  4575.000000   \n",
       "mean      0.040437    16.493052     0.176393     0.527432     0.369180   \n",
       "std       0.197004     1.552174     0.381196     0.499302     0.894947   \n",
       "min       0.000000    12.676712     0.000000     0.000000     0.000000   \n",
       "25%       0.000000    15.254795     0.000000     0.000000     0.000000   \n",
       "50%       0.000000    16.509589     0.000000     1.000000     0.000000   \n",
       "75%       0.000000    17.679452     0.000000     1.000000     0.000000   \n",
       "max       1.000000    21.512329     1.000000     1.000000     6.000000   \n",
       "\n",
       "          ...           ESTEEM1        VIOL1      PASSIST     DEVIANT1  \\\n",
       "count     ...       4575.000000  4575.000000  4575.000000  4575.000000   \n",
       "mean      ...         40.952131     1.618579     0.102514     2.645027   \n",
       "std       ...          5.381439     2.593230     0.303356     3.520554   \n",
       "min       ...         18.000000     0.000000     0.000000     0.000000   \n",
       "25%       ...         38.000000     0.000000     0.000000     0.000000   \n",
       "50%       ...         40.000000     0.000000     0.000000     1.000000   \n",
       "75%       ...         45.000000     2.000000     0.000000     4.000000   \n",
       "max       ...         50.000000    19.000000     1.000000    27.000000   \n",
       "\n",
       "          SCHCONN1         GPA1       EXPEL1     FAMCONCT      PARACTV  \\\n",
       "count  4575.000000  4575.000000  4575.000000  4575.000000  4575.000000   \n",
       "mean     28.360656     2.815647     0.040219    22.570557     6.290710   \n",
       "std       5.156385     0.770167     0.196493     2.614754     3.360219   \n",
       "min       6.000000     1.000000     0.000000     6.300000     0.000000   \n",
       "25%      25.000000     2.250000     0.000000    21.700000     4.000000   \n",
       "50%      29.000000     2.750000     0.000000    23.700000     6.000000   \n",
       "75%      32.000000     3.500000     0.000000    24.300000     9.000000   \n",
       "max      38.000000     4.000000     1.000000    25.000000    18.000000   \n",
       "\n",
       "           PARPRES  \n",
       "count  4575.000000  \n",
       "mean     13.398033  \n",
       "std       2.085837  \n",
       "min       3.000000  \n",
       "25%      12.000000  \n",
       "50%      14.000000  \n",
       "75%      15.000000  \n",
       "max      15.000000  \n",
       "\n",
       "[8 rows x 25 columns]"
      ]
     },
     "execution_count": 5,
     "metadata": {},
     "output_type": "execute_result"
    }
   ],
   "source": [
    "AH_data = pd.read_csv('tree_addhealth.csv')\n",
    "data_clean = AH_data.dropna()\n",
    "\n",
    "data_clean.describe()"
   ]
  },
  {
   "cell_type": "code",
   "execution_count": 14,
   "metadata": {
    "collapsed": false
   },
   "outputs": [
    {
     "data": {
      "text/plain": [
       "((1830, 24), (2745, 24))"
      ]
     },
     "execution_count": 14,
     "metadata": {},
     "output_type": "execute_result"
    }
   ],
   "source": [
    "data_features = ['BIO_SEX','HISPANIC','WHITE','BLACK','NAMERICAN','ASIAN','age',\n",
    "'ALCEVR1','ALCPROBS1','marever1','cocever1','inhever1','cigavail','DEP1','ESTEEM1','VIOL1',\n",
    "'PASSIST','DEVIANT1','SCHCONN1','GPA1','EXPEL1','FAMCONCT','PARACTV','PARPRES']\n",
    "predictors = data_clean[data_features]\n",
    "\n",
    "targets = data_clean.TREG1\n",
    "\n",
    "pred_train, pred_test, tar_train, tar_test  = train_test_split(predictors, targets, test_size=.4)\n",
    "pred_test.shape,pred_train.shape"
   ]
  },
  {
   "cell_type": "code",
   "execution_count": 43,
   "metadata": {
    "collapsed": true
   },
   "outputs": [],
   "source": [
    "#Build model on training data\n",
    "from sklearn.ensemble import RandomForestClassifier\n",
    "\n",
    "classifier=RandomForestClassifier(n_estimators=25)\n",
    "classifier=classifier.fit(pred_train,tar_train)\n",
    "\n",
    "predictions=classifier.predict(pred_test)"
   ]
  },
  {
   "cell_type": "code",
   "execution_count": 44,
   "metadata": {
    "collapsed": false
   },
   "outputs": [
    {
     "data": {
      "text/plain": [
       "array([[1433,   76],\n",
       "       [ 194,  127]])"
      ]
     },
     "execution_count": 44,
     "metadata": {},
     "output_type": "execute_result"
    }
   ],
   "source": [
    "sklearn.metrics.confusion_matrix(tar_test,predictions)"
   ]
  },
  {
   "cell_type": "code",
   "execution_count": 45,
   "metadata": {
    "collapsed": false
   },
   "outputs": [
    {
     "data": {
      "text/plain": [
       "0.85245901639344257"
      ]
     },
     "execution_count": 45,
     "metadata": {},
     "output_type": "execute_result"
    }
   ],
   "source": [
    "sklearn.metrics.accuracy_score(tar_test, predictions)"
   ]
  },
  {
   "cell_type": "code",
   "execution_count": 21,
   "metadata": {
    "collapsed": false
   },
   "outputs": [],
   "source": [
    "# fit an Extra Trees model to the data\n",
    "model = ExtraTreesClassifier()\n",
    "model.fit(pred_train,tar_train)\n",
    "# display the relative importance of each attribute\n",
    "feature_importance = dict(zip(data_features,model.feature_importances_))"
   ]
  },
  {
   "cell_type": "code",
   "execution_count": 54,
   "metadata": {
    "collapsed": false
   },
   "outputs": [
    {
     "data": {
      "text/plain": [
       "[('marever1', 0.10653603056810568),\n",
       " ('GPA1', 0.082102494993445921),\n",
       " ('DEVIANT1', 0.076548057084745824),\n",
       " ('SCHCONN1', 0.063178941115091564),\n",
       " ('FAMCONCT', 0.060316038372631699),\n",
       " ('DEP1', 0.058518147588272285),\n",
       " ('PARACTV', 0.058004669767426596),\n",
       " ('age', 0.057524516619315291),\n",
       " ('PARPRES', 0.052894205447323352),\n",
       " ('ESTEEM1', 0.050441693282331154),\n",
       " ('VIOL1', 0.049188289699033626),\n",
       " ('ALCEVR1', 0.046231761434253324),\n",
       " ('ALCPROBS1', 0.043955640598866842),\n",
       " ('cigavail', 0.027743433244561695),\n",
       " ('BIO_SEX', 0.025395003765943953),\n",
       " ('WHITE', 0.022824176273564836),\n",
       " ('cocever1', 0.021314680236497286),\n",
       " ('BLACK', 0.020641336507299015),\n",
       " ('inhever1', 0.018006826167785317),\n",
       " ('PASSIST', 0.017687643722773719)]"
      ]
     },
     "execution_count": 54,
     "metadata": {},
     "output_type": "execute_result"
    }
   ],
   "source": [
    "sort_feature_importance = sorted(feature_importance.items(),key=lambda k:k[1], reverse=True)\n",
    "sort_feature_importance[:20]"
   ]
  },
  {
   "cell_type": "markdown",
   "metadata": {},
   "source": [
    "Running a different number of trees and see the effect\n",
    " of that on the accuracy of the prediction"
   ]
  },
  {
   "cell_type": "code",
   "execution_count": 52,
   "metadata": {
    "collapsed": false
   },
   "outputs": [
    {
     "data": {
      "text/plain": [
       "[<matplotlib.lines.Line2D at 0x1169b8f50>]"
      ]
     },
     "execution_count": 52,
     "metadata": {},
     "output_type": "execute_result"
    },
    {
     "data": {
      "image/png": "[encoded data removed]",
      "text/plain": [
       "<matplotlib.figure.Figure at 0x1131cb410>"
      ]
     },
     "metadata": {},
     "output_type": "display_data"
    }
   ],
   "source": [
    "%matplotlib inline\n",
    "trees=range(25)\n",
    "accuracy=np.zeros(25)\n",
    "\n",
    "for idx in range(len(trees)):\n",
    "   classifier = RandomForestClassifier(n_estimators=idx + 1,random_state=1000)\n",
    "   classifier=classifier.fit(pred_train,tar_train)\n",
    "   predictions =classifier.predict(pred_test)\n",
    "   accuracy[idx]=sklearn.metrics.accuracy_score(tar_test, predictions)\n",
    "   \n",
    "plt.cla()\n",
    "plt.plot(trees, accuracy)"
   ]
  },
  {
   "cell_type": "code",
   "execution_count": 53,
   "metadata": {
    "collapsed": false
   },
   "outputs": [
    {
     "data": {
      "text/plain": [
       "(0.84644808743169397, (array([22]),))"
      ]
     },
     "execution_count": 53,
     "metadata": {},
     "output_type": "execute_result"
    }
   ],
   "source": [
    "accuracy.max(),np.where(accuracy==accuracy.max())"
   ]
  },
  {
   "cell_type": "code",
   "execution_count": null,
   "metadata": {
    "collapsed": true
   },
   "outputs": [],
   "source": []
  }
 ],
 "metadata": {
  "kernelspec": {
   "display_name": "Python 2",
   "language": "python",
   "name": "python2"
  },
  "language_info": {
   "codemirror_mode": {
    "name": "ipython",
    "version": 2
   },
   "file_extension": ".py",
   "mimetype": "text/x-python",
   "name": "python",
   "nbconvert_exporter": "python",
   "pygments_lexer": "ipython2",
   "version": "2.7.10"
  }
 },
 "nbformat": 4,
 "nbformat_minor": 0
}
